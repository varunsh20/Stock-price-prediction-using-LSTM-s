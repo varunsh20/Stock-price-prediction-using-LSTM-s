{
 "cells": [
  {
   "cell_type": "code",
   "execution_count": 1,
   "metadata": {},
   "outputs": [],
   "source": [
    "import numpy as np\n",
    "import pandas as pd\n",
    "import pandas_datareader as pdr\n",
    "from matplotlib import pyplot as plt"
   ]
  },
  {
   "cell_type": "markdown",
   "metadata": {},
   "source": [
    "Getting stocks data from tiingo"
   ]
  },
  {
   "cell_type": "code",
   "execution_count": 44,
   "metadata": {},
   "outputs": [],
   "source": [
    "df = pdr.get_data_tiingo('AAPL', api_key='acf03f66f6a6d6fe6b98078a8d5eb58986eeca30')"
   ]
  },
  {
   "cell_type": "code",
   "execution_count": 45,
   "metadata": {},
   "outputs": [],
   "source": [
    "df.to_csv('AAPL.csv')"
   ]
  },
  {
   "cell_type": "code",
   "execution_count": 46,
   "metadata": {},
   "outputs": [
    {
     "data": {
      "text/html": [
       "<div>\n",
       "<style scoped>\n",
       "    .dataframe tbody tr th:only-of-type {\n",
       "        vertical-align: middle;\n",
       "    }\n",
       "\n",
       "    .dataframe tbody tr th {\n",
       "        vertical-align: top;\n",
       "    }\n",
       "\n",
       "    .dataframe thead th {\n",
       "        text-align: right;\n",
       "    }\n",
       "</style>\n",
       "<table border=\"1\" class=\"dataframe\">\n",
       "  <thead>\n",
       "    <tr style=\"text-align: right;\">\n",
       "      <th></th>\n",
       "      <th>symbol</th>\n",
       "      <th>date</th>\n",
       "      <th>close</th>\n",
       "      <th>high</th>\n",
       "      <th>low</th>\n",
       "      <th>open</th>\n",
       "      <th>volume</th>\n",
       "      <th>adjClose</th>\n",
       "      <th>adjHigh</th>\n",
       "      <th>adjLow</th>\n",
       "      <th>adjOpen</th>\n",
       "      <th>adjVolume</th>\n",
       "      <th>divCash</th>\n",
       "      <th>splitFactor</th>\n",
       "    </tr>\n",
       "  </thead>\n",
       "  <tbody>\n",
       "    <tr>\n",
       "      <th>0</th>\n",
       "      <td>AAPL</td>\n",
       "      <td>2016-06-13 00:00:00+00:00</td>\n",
       "      <td>97.34</td>\n",
       "      <td>99.120</td>\n",
       "      <td>97.10</td>\n",
       "      <td>98.69</td>\n",
       "      <td>38020494</td>\n",
       "      <td>22.730199</td>\n",
       "      <td>23.145853</td>\n",
       "      <td>22.674156</td>\n",
       "      <td>23.045442</td>\n",
       "      <td>152081976</td>\n",
       "      <td>0.0</td>\n",
       "      <td>1.0</td>\n",
       "    </tr>\n",
       "    <tr>\n",
       "      <th>1</th>\n",
       "      <td>AAPL</td>\n",
       "      <td>2016-06-14 00:00:00+00:00</td>\n",
       "      <td>97.46</td>\n",
       "      <td>98.475</td>\n",
       "      <td>96.75</td>\n",
       "      <td>97.32</td>\n",
       "      <td>31931944</td>\n",
       "      <td>22.758221</td>\n",
       "      <td>22.995237</td>\n",
       "      <td>22.592426</td>\n",
       "      <td>22.725529</td>\n",
       "      <td>127727776</td>\n",
       "      <td>0.0</td>\n",
       "      <td>1.0</td>\n",
       "    </tr>\n",
       "    <tr>\n",
       "      <th>2</th>\n",
       "      <td>AAPL</td>\n",
       "      <td>2016-06-15 00:00:00+00:00</td>\n",
       "      <td>97.14</td>\n",
       "      <td>98.410</td>\n",
       "      <td>97.03</td>\n",
       "      <td>97.82</td>\n",
       "      <td>29445227</td>\n",
       "      <td>22.683496</td>\n",
       "      <td>22.980058</td>\n",
       "      <td>22.657810</td>\n",
       "      <td>22.842285</td>\n",
       "      <td>117780908</td>\n",
       "      <td>0.0</td>\n",
       "      <td>1.0</td>\n",
       "    </tr>\n",
       "    <tr>\n",
       "      <th>3</th>\n",
       "      <td>AAPL</td>\n",
       "      <td>2016-06-16 00:00:00+00:00</td>\n",
       "      <td>97.55</td>\n",
       "      <td>97.750</td>\n",
       "      <td>96.07</td>\n",
       "      <td>96.45</td>\n",
       "      <td>31326815</td>\n",
       "      <td>22.779237</td>\n",
       "      <td>22.825940</td>\n",
       "      <td>22.433637</td>\n",
       "      <td>22.522372</td>\n",
       "      <td>125307260</td>\n",
       "      <td>0.0</td>\n",
       "      <td>1.0</td>\n",
       "    </tr>\n",
       "    <tr>\n",
       "      <th>4</th>\n",
       "      <td>AAPL</td>\n",
       "      <td>2016-06-17 00:00:00+00:00</td>\n",
       "      <td>95.33</td>\n",
       "      <td>96.650</td>\n",
       "      <td>95.30</td>\n",
       "      <td>96.62</td>\n",
       "      <td>61008219</td>\n",
       "      <td>22.260837</td>\n",
       "      <td>22.569075</td>\n",
       "      <td>22.253832</td>\n",
       "      <td>22.562069</td>\n",
       "      <td>244032876</td>\n",
       "      <td>0.0</td>\n",
       "      <td>1.0</td>\n",
       "    </tr>\n",
       "  </tbody>\n",
       "</table>\n",
       "</div>"
      ],
      "text/plain": [
       "  symbol                       date  close    high    low   open    volume  \\\n",
       "0   AAPL  2016-06-13 00:00:00+00:00  97.34  99.120  97.10  98.69  38020494   \n",
       "1   AAPL  2016-06-14 00:00:00+00:00  97.46  98.475  96.75  97.32  31931944   \n",
       "2   AAPL  2016-06-15 00:00:00+00:00  97.14  98.410  97.03  97.82  29445227   \n",
       "3   AAPL  2016-06-16 00:00:00+00:00  97.55  97.750  96.07  96.45  31326815   \n",
       "4   AAPL  2016-06-17 00:00:00+00:00  95.33  96.650  95.30  96.62  61008219   \n",
       "\n",
       "    adjClose    adjHigh     adjLow    adjOpen  adjVolume  divCash  splitFactor  \n",
       "0  22.730199  23.145853  22.674156  23.045442  152081976      0.0          1.0  \n",
       "1  22.758221  22.995237  22.592426  22.725529  127727776      0.0          1.0  \n",
       "2  22.683496  22.980058  22.657810  22.842285  117780908      0.0          1.0  \n",
       "3  22.779237  22.825940  22.433637  22.522372  125307260      0.0          1.0  \n",
       "4  22.260837  22.569075  22.253832  22.562069  244032876      0.0          1.0  "
      ]
     },
     "execution_count": 46,
     "metadata": {},
     "output_type": "execute_result"
    }
   ],
   "source": [
    "df=pd.read_csv('AAPL.csv')\n",
    "df.head()"
   ]
  },
  {
   "cell_type": "code",
   "execution_count": 47,
   "metadata": {},
   "outputs": [
    {
     "data": {
      "text/html": [
       "<div>\n",
       "<style scoped>\n",
       "    .dataframe tbody tr th:only-of-type {\n",
       "        vertical-align: middle;\n",
       "    }\n",
       "\n",
       "    .dataframe tbody tr th {\n",
       "        vertical-align: top;\n",
       "    }\n",
       "\n",
       "    .dataframe thead th {\n",
       "        text-align: right;\n",
       "    }\n",
       "</style>\n",
       "<table border=\"1\" class=\"dataframe\">\n",
       "  <thead>\n",
       "    <tr style=\"text-align: right;\">\n",
       "      <th></th>\n",
       "      <th>symbol</th>\n",
       "      <th>date</th>\n",
       "      <th>close</th>\n",
       "      <th>high</th>\n",
       "      <th>low</th>\n",
       "      <th>open</th>\n",
       "      <th>volume</th>\n",
       "      <th>adjClose</th>\n",
       "      <th>adjHigh</th>\n",
       "      <th>adjLow</th>\n",
       "      <th>adjOpen</th>\n",
       "      <th>adjVolume</th>\n",
       "      <th>divCash</th>\n",
       "      <th>splitFactor</th>\n",
       "    </tr>\n",
       "  </thead>\n",
       "  <tbody>\n",
       "    <tr>\n",
       "      <th>1254</th>\n",
       "      <td>AAPL</td>\n",
       "      <td>2021-06-07 00:00:00+00:00</td>\n",
       "      <td>125.90</td>\n",
       "      <td>126.32</td>\n",
       "      <td>124.8321</td>\n",
       "      <td>126.17</td>\n",
       "      <td>71057550</td>\n",
       "      <td>125.90</td>\n",
       "      <td>126.32</td>\n",
       "      <td>124.8321</td>\n",
       "      <td>126.17</td>\n",
       "      <td>71057550</td>\n",
       "      <td>0.0</td>\n",
       "      <td>1.0</td>\n",
       "    </tr>\n",
       "    <tr>\n",
       "      <th>1255</th>\n",
       "      <td>AAPL</td>\n",
       "      <td>2021-06-08 00:00:00+00:00</td>\n",
       "      <td>126.74</td>\n",
       "      <td>128.46</td>\n",
       "      <td>126.2101</td>\n",
       "      <td>126.60</td>\n",
       "      <td>74403774</td>\n",
       "      <td>126.74</td>\n",
       "      <td>128.46</td>\n",
       "      <td>126.2101</td>\n",
       "      <td>126.60</td>\n",
       "      <td>74403774</td>\n",
       "      <td>0.0</td>\n",
       "      <td>1.0</td>\n",
       "    </tr>\n",
       "    <tr>\n",
       "      <th>1256</th>\n",
       "      <td>AAPL</td>\n",
       "      <td>2021-06-09 00:00:00+00:00</td>\n",
       "      <td>127.13</td>\n",
       "      <td>127.75</td>\n",
       "      <td>126.5200</td>\n",
       "      <td>127.21</td>\n",
       "      <td>56877937</td>\n",
       "      <td>127.13</td>\n",
       "      <td>127.75</td>\n",
       "      <td>126.5200</td>\n",
       "      <td>127.21</td>\n",
       "      <td>56877937</td>\n",
       "      <td>0.0</td>\n",
       "      <td>1.0</td>\n",
       "    </tr>\n",
       "    <tr>\n",
       "      <th>1257</th>\n",
       "      <td>AAPL</td>\n",
       "      <td>2021-06-10 00:00:00+00:00</td>\n",
       "      <td>126.11</td>\n",
       "      <td>128.19</td>\n",
       "      <td>125.9400</td>\n",
       "      <td>127.02</td>\n",
       "      <td>71186421</td>\n",
       "      <td>126.11</td>\n",
       "      <td>128.19</td>\n",
       "      <td>125.9400</td>\n",
       "      <td>127.02</td>\n",
       "      <td>71186421</td>\n",
       "      <td>0.0</td>\n",
       "      <td>1.0</td>\n",
       "    </tr>\n",
       "    <tr>\n",
       "      <th>1258</th>\n",
       "      <td>AAPL</td>\n",
       "      <td>2021-06-11 00:00:00+00:00</td>\n",
       "      <td>127.35</td>\n",
       "      <td>127.44</td>\n",
       "      <td>126.1000</td>\n",
       "      <td>126.53</td>\n",
       "      <td>53522373</td>\n",
       "      <td>127.35</td>\n",
       "      <td>127.44</td>\n",
       "      <td>126.1000</td>\n",
       "      <td>126.53</td>\n",
       "      <td>53522373</td>\n",
       "      <td>0.0</td>\n",
       "      <td>1.0</td>\n",
       "    </tr>\n",
       "  </tbody>\n",
       "</table>\n",
       "</div>"
      ],
      "text/plain": [
       "     symbol                       date   close    high       low    open  \\\n",
       "1254   AAPL  2021-06-07 00:00:00+00:00  125.90  126.32  124.8321  126.17   \n",
       "1255   AAPL  2021-06-08 00:00:00+00:00  126.74  128.46  126.2101  126.60   \n",
       "1256   AAPL  2021-06-09 00:00:00+00:00  127.13  127.75  126.5200  127.21   \n",
       "1257   AAPL  2021-06-10 00:00:00+00:00  126.11  128.19  125.9400  127.02   \n",
       "1258   AAPL  2021-06-11 00:00:00+00:00  127.35  127.44  126.1000  126.53   \n",
       "\n",
       "        volume  adjClose  adjHigh    adjLow  adjOpen  adjVolume  divCash  \\\n",
       "1254  71057550    125.90   126.32  124.8321   126.17   71057550      0.0   \n",
       "1255  74403774    126.74   128.46  126.2101   126.60   74403774      0.0   \n",
       "1256  56877937    127.13   127.75  126.5200   127.21   56877937      0.0   \n",
       "1257  71186421    126.11   128.19  125.9400   127.02   71186421      0.0   \n",
       "1258  53522373    127.35   127.44  126.1000   126.53   53522373      0.0   \n",
       "\n",
       "      splitFactor  \n",
       "1254          1.0  \n",
       "1255          1.0  \n",
       "1256          1.0  \n",
       "1257          1.0  \n",
       "1258          1.0  "
      ]
     },
     "execution_count": 47,
     "metadata": {},
     "output_type": "execute_result"
    }
   ],
   "source": [
    "df.tail()"
   ]
  },
  {
   "cell_type": "code",
   "execution_count": 48,
   "metadata": {},
   "outputs": [
    {
     "name": "stdout",
     "output_type": "stream",
     "text": [
      "<class 'pandas.core.frame.DataFrame'>\n",
      "RangeIndex: 1259 entries, 0 to 1258\n",
      "Data columns (total 14 columns):\n",
      " #   Column       Non-Null Count  Dtype  \n",
      "---  ------       --------------  -----  \n",
      " 0   symbol       1259 non-null   object \n",
      " 1   date         1259 non-null   object \n",
      " 2   close        1259 non-null   float64\n",
      " 3   high         1259 non-null   float64\n",
      " 4   low          1259 non-null   float64\n",
      " 5   open         1259 non-null   float64\n",
      " 6   volume       1259 non-null   int64  \n",
      " 7   adjClose     1259 non-null   float64\n",
      " 8   adjHigh      1259 non-null   float64\n",
      " 9   adjLow       1259 non-null   float64\n",
      " 10  adjOpen      1259 non-null   float64\n",
      " 11  adjVolume    1259 non-null   int64  \n",
      " 12  divCash      1259 non-null   float64\n",
      " 13  splitFactor  1259 non-null   float64\n",
      "dtypes: float64(10), int64(2), object(2)\n",
      "memory usage: 137.8+ KB\n"
     ]
    }
   ],
   "source": [
    "df.info()"
   ]
  },
  {
   "cell_type": "code",
   "execution_count": 49,
   "metadata": {},
   "outputs": [],
   "source": [
    "df['date'] = pd.to_datetime(df['date'])"
   ]
  },
  {
   "cell_type": "code",
   "execution_count": 50,
   "metadata": {},
   "outputs": [
    {
     "data": {
      "text/html": [
       "<div>\n",
       "<style scoped>\n",
       "    .dataframe tbody tr th:only-of-type {\n",
       "        vertical-align: middle;\n",
       "    }\n",
       "\n",
       "    .dataframe tbody tr th {\n",
       "        vertical-align: top;\n",
       "    }\n",
       "\n",
       "    .dataframe thead th {\n",
       "        text-align: right;\n",
       "    }\n",
       "</style>\n",
       "<table border=\"1\" class=\"dataframe\">\n",
       "  <thead>\n",
       "    <tr style=\"text-align: right;\">\n",
       "      <th></th>\n",
       "      <th>symbol</th>\n",
       "      <th>close</th>\n",
       "      <th>high</th>\n",
       "      <th>low</th>\n",
       "      <th>open</th>\n",
       "      <th>volume</th>\n",
       "      <th>adjClose</th>\n",
       "      <th>adjHigh</th>\n",
       "      <th>adjLow</th>\n",
       "      <th>adjOpen</th>\n",
       "      <th>adjVolume</th>\n",
       "      <th>divCash</th>\n",
       "      <th>splitFactor</th>\n",
       "    </tr>\n",
       "    <tr>\n",
       "      <th>date</th>\n",
       "      <th></th>\n",
       "      <th></th>\n",
       "      <th></th>\n",
       "      <th></th>\n",
       "      <th></th>\n",
       "      <th></th>\n",
       "      <th></th>\n",
       "      <th></th>\n",
       "      <th></th>\n",
       "      <th></th>\n",
       "      <th></th>\n",
       "      <th></th>\n",
       "      <th></th>\n",
       "    </tr>\n",
       "  </thead>\n",
       "  <tbody>\n",
       "    <tr>\n",
       "      <th>2016-06-13 00:00:00+00:00</th>\n",
       "      <td>AAPL</td>\n",
       "      <td>97.34</td>\n",
       "      <td>99.120</td>\n",
       "      <td>97.10</td>\n",
       "      <td>98.69</td>\n",
       "      <td>38020494</td>\n",
       "      <td>22.730199</td>\n",
       "      <td>23.145853</td>\n",
       "      <td>22.674156</td>\n",
       "      <td>23.045442</td>\n",
       "      <td>152081976</td>\n",
       "      <td>0.0</td>\n",
       "      <td>1.0</td>\n",
       "    </tr>\n",
       "    <tr>\n",
       "      <th>2016-06-14 00:00:00+00:00</th>\n",
       "      <td>AAPL</td>\n",
       "      <td>97.46</td>\n",
       "      <td>98.475</td>\n",
       "      <td>96.75</td>\n",
       "      <td>97.32</td>\n",
       "      <td>31931944</td>\n",
       "      <td>22.758221</td>\n",
       "      <td>22.995237</td>\n",
       "      <td>22.592426</td>\n",
       "      <td>22.725529</td>\n",
       "      <td>127727776</td>\n",
       "      <td>0.0</td>\n",
       "      <td>1.0</td>\n",
       "    </tr>\n",
       "    <tr>\n",
       "      <th>2016-06-15 00:00:00+00:00</th>\n",
       "      <td>AAPL</td>\n",
       "      <td>97.14</td>\n",
       "      <td>98.410</td>\n",
       "      <td>97.03</td>\n",
       "      <td>97.82</td>\n",
       "      <td>29445227</td>\n",
       "      <td>22.683496</td>\n",
       "      <td>22.980058</td>\n",
       "      <td>22.657810</td>\n",
       "      <td>22.842285</td>\n",
       "      <td>117780908</td>\n",
       "      <td>0.0</td>\n",
       "      <td>1.0</td>\n",
       "    </tr>\n",
       "    <tr>\n",
       "      <th>2016-06-16 00:00:00+00:00</th>\n",
       "      <td>AAPL</td>\n",
       "      <td>97.55</td>\n",
       "      <td>97.750</td>\n",
       "      <td>96.07</td>\n",
       "      <td>96.45</td>\n",
       "      <td>31326815</td>\n",
       "      <td>22.779237</td>\n",
       "      <td>22.825940</td>\n",
       "      <td>22.433637</td>\n",
       "      <td>22.522372</td>\n",
       "      <td>125307260</td>\n",
       "      <td>0.0</td>\n",
       "      <td>1.0</td>\n",
       "    </tr>\n",
       "    <tr>\n",
       "      <th>2016-06-17 00:00:00+00:00</th>\n",
       "      <td>AAPL</td>\n",
       "      <td>95.33</td>\n",
       "      <td>96.650</td>\n",
       "      <td>95.30</td>\n",
       "      <td>96.62</td>\n",
       "      <td>61008219</td>\n",
       "      <td>22.260837</td>\n",
       "      <td>22.569075</td>\n",
       "      <td>22.253832</td>\n",
       "      <td>22.562069</td>\n",
       "      <td>244032876</td>\n",
       "      <td>0.0</td>\n",
       "      <td>1.0</td>\n",
       "    </tr>\n",
       "  </tbody>\n",
       "</table>\n",
       "</div>"
      ],
      "text/plain": [
       "                          symbol  close    high    low   open    volume  \\\n",
       "date                                                                      \n",
       "2016-06-13 00:00:00+00:00   AAPL  97.34  99.120  97.10  98.69  38020494   \n",
       "2016-06-14 00:00:00+00:00   AAPL  97.46  98.475  96.75  97.32  31931944   \n",
       "2016-06-15 00:00:00+00:00   AAPL  97.14  98.410  97.03  97.82  29445227   \n",
       "2016-06-16 00:00:00+00:00   AAPL  97.55  97.750  96.07  96.45  31326815   \n",
       "2016-06-17 00:00:00+00:00   AAPL  95.33  96.650  95.30  96.62  61008219   \n",
       "\n",
       "                            adjClose    adjHigh     adjLow    adjOpen  \\\n",
       "date                                                                    \n",
       "2016-06-13 00:00:00+00:00  22.730199  23.145853  22.674156  23.045442   \n",
       "2016-06-14 00:00:00+00:00  22.758221  22.995237  22.592426  22.725529   \n",
       "2016-06-15 00:00:00+00:00  22.683496  22.980058  22.657810  22.842285   \n",
       "2016-06-16 00:00:00+00:00  22.779237  22.825940  22.433637  22.522372   \n",
       "2016-06-17 00:00:00+00:00  22.260837  22.569075  22.253832  22.562069   \n",
       "\n",
       "                           adjVolume  divCash  splitFactor  \n",
       "date                                                        \n",
       "2016-06-13 00:00:00+00:00  152081976      0.0          1.0  \n",
       "2016-06-14 00:00:00+00:00  127727776      0.0          1.0  \n",
       "2016-06-15 00:00:00+00:00  117780908      0.0          1.0  \n",
       "2016-06-16 00:00:00+00:00  125307260      0.0          1.0  \n",
       "2016-06-17 00:00:00+00:00  244032876      0.0          1.0  "
      ]
     },
     "execution_count": 50,
     "metadata": {},
     "output_type": "execute_result"
    }
   ],
   "source": [
    "df.set_index(['date'],inplace=True)\n",
    "df.head()"
   ]
  },
  {
   "cell_type": "markdown",
   "metadata": {},
   "source": [
    "Taking the close price"
   ]
  },
  {
   "cell_type": "code",
   "execution_count": 51,
   "metadata": {},
   "outputs": [],
   "source": [
    "df1 = df.filter(['close'])"
   ]
  },
  {
   "cell_type": "code",
   "execution_count": 52,
   "metadata": {},
   "outputs": [
    {
     "data": {
      "text/plain": [
       "date\n",
       "2016-06-13 00:00:00+00:00     97.34\n",
       "2016-06-14 00:00:00+00:00     97.46\n",
       "2016-06-15 00:00:00+00:00     97.14\n",
       "2016-06-16 00:00:00+00:00     97.55\n",
       "2016-06-17 00:00:00+00:00     95.33\n",
       "                              ...  \n",
       "2021-06-07 00:00:00+00:00    125.90\n",
       "2021-06-08 00:00:00+00:00    126.74\n",
       "2021-06-09 00:00:00+00:00    127.13\n",
       "2021-06-10 00:00:00+00:00    126.11\n",
       "2021-06-11 00:00:00+00:00    127.35\n",
       "Name: close, Length: 1259, dtype: float64"
      ]
     },
     "execution_count": 52,
     "metadata": {},
     "output_type": "execute_result"
    }
   ],
   "source": [
    "data = df['close']\n",
    "data"
   ]
  },
  {
   "cell_type": "code",
   "execution_count": 53,
   "metadata": {},
   "outputs": [
    {
     "data": {
      "text/plain": [
       "[<matplotlib.lines.Line2D at 0x1ec830e4a00>]"
      ]
     },
     "execution_count": 53,
     "metadata": {},
     "output_type": "execute_result"
    },
    {
     "data": {
      "image/png": "[encoded data removed]",
      "text/plain": [
       "<Figure size 432x288 with 1 Axes>"
      ]
     },
     "metadata": {
      "needs_background": "light"
     },
     "output_type": "display_data"
    }
   ],
   "source": [
    "plt.plot(data)\n"
   ]
  },
  {
   "cell_type": "code",
   "execution_count": 54,
   "metadata": {},
   "outputs": [
    {
     "data": {
      "text/plain": [
       "1259"
      ]
     },
     "execution_count": 54,
     "metadata": {},
     "output_type": "execute_result"
    }
   ],
   "source": [
    "len(data)\n"
   ]
  },
  {
   "cell_type": "markdown",
   "metadata": {},
   "source": [
    "Normalising data"
   ]
  },
  {
   "cell_type": "code",
   "execution_count": 55,
   "metadata": {},
   "outputs": [
    {
     "data": {
      "text/plain": [
       "array([[-1.19597446],\n",
       "       [-1.19433852],\n",
       "       [-1.19870102],\n",
       "       [-1.19311157],\n",
       "       [-1.22337643]])"
      ]
     },
     "execution_count": 55,
     "metadata": {},
     "output_type": "execute_result"
    }
   ],
   "source": [
    "from sklearn.preprocessing import StandardScaler\n",
    "ss = StandardScaler()\n",
    "data = ss.fit_transform(np.array(data).reshape(-1,1))\n",
    "data[:5]"
   ]
  },
  {
   "cell_type": "code",
   "execution_count": 56,
   "metadata": {},
   "outputs": [],
   "source": [
    "training_size = int(0.65*len(data))\n",
    "train_data = data[:training_size,:]\n",
    "test_data = data[training_size:,:]"
   ]
  },
  {
   "cell_type": "code",
   "execution_count": 57,
   "metadata": {},
   "outputs": [
    {
     "name": "stdout",
     "output_type": "stream",
     "text": [
      "818\n",
      "441\n"
     ]
    }
   ],
   "source": [
    "print(len(train_data))\n",
    "print(len(test_data))"
   ]
  },
  {
   "cell_type": "markdown",
   "metadata": {},
   "source": [
    "Arranging data in a way such that the value of next day depends upon the values of last timestamp days "
   ]
  },
  {
   "cell_type": "code",
   "execution_count": 58,
   "metadata": {},
   "outputs": [],
   "source": [
    "def create_data(data,timestamp = 1):\n",
    "    X = []\n",
    "    Y =[]\n",
    "    for i in range(len(data)-timestamp-1):\n",
    "        X.append(data[i:i+timestamp])\n",
    "        Y.append(data[i+timestamp])\n",
    "        \n",
    "    return np.array(X),np.array(Y)\n",
    "\n",
    "        "
   ]
  },
  {
   "cell_type": "code",
   "execution_count": 59,
   "metadata": {},
   "outputs": [],
   "source": [
    "timestamp = 60\n",
    "X_train,Y_train = create_data(train_data,timestamp)\n",
    "x_test,y_test = create_data(test_data,timestamp)"
   ]
  },
  {
   "cell_type": "code",
   "execution_count": 60,
   "metadata": {},
   "outputs": [
    {
     "name": "stdout",
     "output_type": "stream",
     "text": [
      "(757, 60, 1)\n",
      "(757, 1)\n",
      "(380, 60, 1)\n",
      "(380, 1)\n"
     ]
    }
   ],
   "source": [
    "print(X_train.shape)\n",
    "print(Y_train.shape)\n",
    "print(x_test.shape)\n",
    "print(y_test.shape)"
   ]
  },
  {
   "cell_type": "code",
   "execution_count": 61,
   "metadata": {},
   "outputs": [],
   "source": [
    "from tensorflow.keras import models\n",
    "from tensorflow.keras.layers import LSTM,Dense"
   ]
  },
  {
   "cell_type": "code",
   "execution_count": 62,
   "metadata": {},
   "outputs": [
    {
     "name": "stdout",
     "output_type": "stream",
     "text": [
      "Model: \"sequential_2\"\n",
      "_________________________________________________________________\n",
      "Layer (type)                 Output Shape              Param #   \n",
      "=================================================================\n",
      "lstm_6 (LSTM)                (None, 60, 50)            10400     \n",
      "_________________________________________________________________\n",
      "lstm_7 (LSTM)                (None, 60, 50)            20200     \n",
      "_________________________________________________________________\n",
      "lstm_8 (LSTM)                (None, 50)                20200     \n",
      "_________________________________________________________________\n",
      "dense_2 (Dense)              (None, 1)                 51        \n",
      "=================================================================\n",
      "Total params: 50,851\n",
      "Trainable params: 50,851\n",
      "Non-trainable params: 0\n",
      "_________________________________________________________________\n"
     ]
    }
   ],
   "source": [
    "model = models.Sequential()\n",
    "\n",
    "model.add(LSTM(50,return_sequences = True,input_shape = (60,1)))\n",
    "model.add(LSTM(50,return_sequences = True))\n",
    "model.add(LSTM(50,return_sequences = False))\n",
    "model.add(Dense(1))\n",
    "\n",
    "model.compile(optimizer='adam',loss='mean_squared_error')\n",
    "model.summary()"
   ]
  },
  {
   "cell_type": "markdown",
   "metadata": {},
   "source": [
    "Training model"
   ]
  },
  {
   "cell_type": "code",
   "execution_count": 63,
   "metadata": {},
   "outputs": [
    {
     "name": "stdout",
     "output_type": "stream",
     "text": [
      "Epoch 1/50\n",
      "24/24 [==============================] - 2s 74ms/step - loss: 0.0539\n",
      "Epoch 2/50\n",
      "24/24 [==============================] - 2s 71ms/step - loss: 0.0108\n",
      "Epoch 3/50\n",
      "24/24 [==============================] - 2s 66ms/step - loss: 0.0086\n",
      "Epoch 4/50\n",
      "24/24 [==============================] - 2s 65ms/step - loss: 0.0076\n",
      "Epoch 5/50\n",
      "24/24 [==============================] - 2s 65ms/step - loss: 0.0067\n",
      "Epoch 6/50\n",
      "24/24 [==============================] - 2s 65ms/step - loss: 0.0066\n",
      "Epoch 7/50\n",
      "24/24 [==============================] - 2s 65ms/step - loss: 0.0063\n",
      "Epoch 8/50\n",
      "24/24 [==============================] - 2s 64ms/step - loss: 0.0062\n",
      "Epoch 9/50\n",
      "24/24 [==============================] - 2s 65ms/step - loss: 0.0056\n",
      "Epoch 10/50\n",
      "24/24 [==============================] - 2s 65ms/step - loss: 0.0055\n",
      "Epoch 11/50\n",
      "24/24 [==============================] - 2s 65ms/step - loss: 0.0051\n",
      "Epoch 12/50\n",
      "24/24 [==============================] - 2s 65ms/step - loss: 0.0049\n",
      "Epoch 13/50\n",
      "24/24 [==============================] - 2s 65ms/step - loss: 0.0048\n",
      "Epoch 14/50\n",
      "24/24 [==============================] - 2s 65ms/step - loss: 0.0047\n",
      "Epoch 15/50\n",
      "24/24 [==============================] - 2s 65ms/step - loss: 0.0047\n",
      "Epoch 16/50\n",
      "24/24 [==============================] - 2s 64ms/step - loss: 0.0042\n",
      "Epoch 17/50\n",
      "24/24 [==============================] - 2s 65ms/step - loss: 0.0041\n",
      "Epoch 18/50\n",
      "24/24 [==============================] - 2s 66ms/step - loss: 0.0042\n",
      "Epoch 19/50\n",
      "24/24 [==============================] - 2s 64ms/step - loss: 0.0040\n",
      "Epoch 20/50\n",
      "24/24 [==============================] - 2s 65ms/step - loss: 0.0036\n",
      "Epoch 21/50\n",
      "24/24 [==============================] - 2s 65ms/step - loss: 0.0037\n",
      "Epoch 22/50\n",
      "24/24 [==============================] - 2s 65ms/step - loss: 0.0035\n",
      "Epoch 23/50\n",
      "24/24 [==============================] - 2s 65ms/step - loss: 0.0037\n",
      "Epoch 24/50\n",
      "24/24 [==============================] - 2s 65ms/step - loss: 0.0032\n",
      "Epoch 25/50\n",
      "24/24 [==============================] - 2s 65ms/step - loss: 0.0033\n",
      "Epoch 26/50\n",
      "24/24 [==============================] - 2s 65ms/step - loss: 0.0032\n",
      "Epoch 27/50\n",
      "24/24 [==============================] - 2s 64ms/step - loss: 0.0030\n",
      "Epoch 28/50\n",
      "24/24 [==============================] - 2s 65ms/step - loss: 0.0029\n",
      "Epoch 29/50\n",
      "24/24 [==============================] - 2s 65ms/step - loss: 0.0027\n",
      "Epoch 30/50\n",
      "24/24 [==============================] - 2s 65ms/step - loss: 0.0030\n",
      "Epoch 31/50\n",
      "24/24 [==============================] - 2s 65ms/step - loss: 0.0030\n",
      "Epoch 32/50\n",
      "24/24 [==============================] - 2s 63ms/step - loss: 0.0029\n",
      "Epoch 33/50\n",
      "24/24 [==============================] - 2s 64ms/step - loss: 0.0026\n",
      "Epoch 34/50\n",
      "24/24 [==============================] - 2s 64ms/step - loss: 0.0027\n",
      "Epoch 35/50\n",
      "24/24 [==============================] - 2s 64ms/step - loss: 0.0026\n",
      "Epoch 36/50\n",
      "24/24 [==============================] - 2s 65ms/step - loss: 0.0025\n",
      "Epoch 37/50\n",
      "24/24 [==============================] - 2s 65ms/step - loss: 0.0024\n",
      "Epoch 38/50\n",
      "24/24 [==============================] - 2s 65ms/step - loss: 0.0025\n",
      "Epoch 39/50\n",
      "24/24 [==============================] - 2s 64ms/step - loss: 0.0022\n",
      "Epoch 40/50\n",
      "24/24 [==============================] - 2s 66ms/step - loss: 0.0022\n",
      "Epoch 41/50\n",
      "24/24 [==============================] - 2s 65ms/step - loss: 0.0021\n",
      "Epoch 42/50\n",
      "24/24 [==============================] - 2s 66ms/step - loss: 0.0021\n",
      "Epoch 43/50\n",
      "24/24 [==============================] - 2s 64ms/step - loss: 0.0021\n",
      "Epoch 44/50\n",
      "24/24 [==============================] - 2s 65ms/step - loss: 0.0019\n",
      "Epoch 45/50\n",
      "24/24 [==============================] - 2s 65ms/step - loss: 0.0022\n",
      "Epoch 46/50\n",
      "24/24 [==============================] - 2s 65ms/step - loss: 0.0021\n",
      "Epoch 47/50\n",
      "24/24 [==============================] - 2s 65ms/step - loss: 0.0019\n",
      "Epoch 48/50\n",
      "24/24 [==============================] - 2s 65ms/step - loss: 0.0017\n",
      "Epoch 49/50\n",
      "24/24 [==============================] - 2s 65ms/step - loss: 0.0016\n",
      "Epoch 50/50\n",
      "24/24 [==============================] - 2s 65ms/step - loss: 0.0018\n"
     ]
    }
   ],
   "source": [
    "hist = model.fit(X_train,Y_train,epochs=50,batch_size=32)"
   ]
  },
  {
   "cell_type": "code",
   "execution_count": 64,
   "metadata": {},
   "outputs": [],
   "source": [
    "model.save('Lstm_models.h5')"
   ]
  },
  {
   "cell_type": "code",
   "execution_count": 65,
   "metadata": {},
   "outputs": [],
   "source": [
    "train_predict = model.predict(X_train)"
   ]
  },
  {
   "cell_type": "code",
   "execution_count": 66,
   "metadata": {},
   "outputs": [
    {
     "name": "stdout",
     "output_type": "stream",
     "text": [
      "380\n"
     ]
    }
   ],
   "source": [
    "test_predict = model.predict(x_test)\n",
    "\n",
    "print(len(test_predict))"
   ]
  },
  {
   "cell_type": "code",
   "execution_count": 67,
   "metadata": {},
   "outputs": [
    {
     "name": "stdout",
     "output_type": "stream",
     "text": [
      "0.04767157300067091\n",
      "0.5385936503539306\n"
     ]
    }
   ],
   "source": [
    "from sklearn.metrics import mean_squared_error\n",
    "\n",
    "train_loss = np.sqrt(mean_squared_error(Y_train,train_predict))\n",
    "test_loss = np.sqrt(mean_squared_error(y_test,test_predict))\n",
    "\n",
    "print(train_loss)\n",
    "print(test_loss)"
   ]
  },
  {
   "cell_type": "code",
   "execution_count": 68,
   "metadata": {},
   "outputs": [],
   "source": [
    "data = ss.inverse_transform(data)"
   ]
  },
  {
   "cell_type": "code",
   "execution_count": 69,
   "metadata": {},
   "outputs": [],
   "source": [
    "train_predict = ss.inverse_transform(train_predict)"
   ]
  },
  {
   "cell_type": "code",
   "execution_count": 70,
   "metadata": {},
   "outputs": [],
   "source": [
    "y_test = ss.inverse_transform(y_test)\n",
    "test_predict = ss.inverse_transform(test_predict)"
   ]
  },
  {
   "cell_type": "code",
   "execution_count": 71,
   "metadata": {},
   "outputs": [
    {
     "data": {
      "image/png": "[encoded data removed]",
      "text/plain": [
       "<Figure size 432x288 with 1 Axes>"
      ]
     },
     "metadata": {
      "needs_background": "light"
     },
     "output_type": "display_data"
    }
   ],
   "source": [
    "plt.plot(y_test,label='Actual Values')\n",
    "plt.plot(test_predict,label='Predicted Values')\n",
    "plt.title('Predicted vs Actual values curve',fontsize='18')\n",
    "plt.legend()\n",
    "plt.xlabel('Number of test points',fontsize='18')\n",
    "plt.ylabel('Close Values',fontsize='15')\n",
    "plt.show()"
   ]
  },
  {
   "cell_type": "code",
   "execution_count": null,
   "metadata": {},
   "outputs": [],
   "source": [
    "Visualizing original values along with train and t"
   ]
  },
  {
   "cell_type": "code",
   "execution_count": 72,
   "metadata": {},
   "outputs": [
    {
     "data": {
      "image/png": "[encoded data removed]",
      "text/plain": [
       "<Figure size 432x288 with 1 Axes>"
      ]
     },
     "metadata": {
      "needs_background": "light"
     },
     "output_type": "display_data"
    }
   ],
   "source": [
    "\n",
    "### Plotting \n",
    "# shift train predictions for plotting\n",
    "look_back=60\n",
    "trainPredictPlot = np.empty_like(df1)\n",
    "trainPredictPlot[:, :] = np.nan\n",
    "trainPredictPlot[look_back:len(train_predict)+look_back, :] = train_predict\n",
    "# shift test predictions for plotting\n",
    "testPredictPlot = np.empty_like(df1)\n",
    "testPredictPlot[:, :] = np.nan\n",
    "testPredictPlot[len(train_predict)+(look_back*2)+1:len(df1)-1, :] = test_predict\n",
    "# plot baseline and predictions\n",
    "plt.plot(data,label='Original Values')\n",
    "plt.plot(trainPredictPlot,label='Training Predictions')\n",
    "plt.plot(testPredictPlot,label = 'Test Predictions')\n",
    "plt.legend()\n",
    "plt.xlabel('Number of test points',fontsize='18')\n",
    "plt.ylabel('Close Values',fontsize='15')\n",
    "plt.show()"
   ]
  },
  {
   "cell_type": "code",
   "execution_count": 73,
   "metadata": {},
   "outputs": [
    {
     "name": "stderr",
     "output_type": "stream",
     "text": [
      "<ipython-input-73-f8325fd3214d>:4: SettingWithCopyWarning: \n",
      "A value is trying to be set on a copy of a slice from a DataFrame.\n",
      "Try using .loc[row_indexer,col_indexer] = value instead\n",
      "\n",
      "See the caveats in the documentation: https://pandas.pydata.org/pandas-docs/stable/user_guide/indexing.html#returning-a-view-versus-a-copy\n",
      "  test_data['Predictions'] = test_predict\n"
     ]
    },
    {
     "data": {
      "image/png": "[encoded data removed]",
      "text/plain": [
       "<Figure size 432x288 with 1 Axes>"
      ]
     },
     "metadata": {
      "needs_background": "light"
     },
     "output_type": "display_data"
    }
   ],
   "source": [
    "train_data = df1[:len(X_train)]\n",
    "\n",
    "test_data = df1[training_size+61:]\n",
    "test_data['Predictions'] = test_predict\n",
    "\n",
    "plt.plot(df1)\n",
    "plt.plot(test_data[['close','Predictions']])\n",
    "plt.legend(['Original values','Test values','Predicted values'])\n",
    "plt.xlabel('Date',fontsize=15)\n",
    "plt.ylabel('Close Price USD($)',fontsize=15)\n",
    "plt.show()\n"
   ]
  },
  {
   "cell_type": "code",
   "execution_count": null,
   "metadata": {},
   "outputs": [],
   "source": []
  }
 ],
 "metadata": {
  "kernelspec": {
   "display_name": "Python 3",
   "language": "python",
   "name": "python3"
  },
  "language_info": {
   "codemirror_mode": {
    "name": "ipython",
    "version": 3
   },
   "file_extension": ".py",
   "mimetype": "text/x-python",
   "name": "python",
   "nbconvert_exporter": "python",
   "pygments_lexer": "ipython3",
   "version": "3.8.1"
  }
 },
 "nbformat": 4,
 "nbformat_minor": 4
}
